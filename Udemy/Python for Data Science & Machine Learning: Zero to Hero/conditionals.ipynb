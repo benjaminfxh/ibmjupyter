{
 "cells": [
  {
   "cell_type": "markdown",
   "metadata": {},
   "source": [
    "# conditionals\n",
    "elif and else are OPTIONAL, but having a else statement is good practice.\n",
    "\n",
    "there can be as many elif statements, but only ONE if and else\n",
    "conditions are evaluated in a top-down manner\n"
   ]
  },
  {
   "cell_type": "code",
   "execution_count": 1,
   "metadata": {},
   "outputs": [
    {
     "name": "stdout",
     "output_type": "stream",
     "text": [
      "2\n"
     ]
    }
   ],
   "source": [
    "if 5==6:\n",
    "    print(1)\n",
    "elif 6==6:\n",
    "    print(2) #this fired\n",
    "else:\n",
    "    print(3)"
   ]
  },
  {
   "cell_type": "markdown",
   "metadata": {},
   "source": [
    "# loops\n",
    "for loops takes a range value and has 3 arguments (start, stop step) it always runs from start to (stop-1) because the stop value is exclusive\n",
    "\n",
    "while loops takes a coniditon and will run as long as the condition is true\n",
    "break is used to stop an infinitely running loop"
   ]
  },
  {
   "cell_type": "code",
   "execution_count": 2,
   "metadata": {},
   "outputs": [
    {
     "name": "stdout",
     "output_type": "stream",
     "text": [
      "0\n",
      "2\n",
      "4\n",
      "6\n",
      "8\n",
      "10\n",
      "12\n",
      "14\n",
      "16\n",
      "18\n",
      "20\n"
     ]
    }
   ],
   "source": [
    "for i in range(0,21,2):\n",
    "    print(i)\n",
    "    "
   ]
  },
  {
   "cell_type": "code",
   "execution_count": 1,
   "metadata": {},
   "outputs": [
    {
     "name": "stdout",
     "output_type": "stream",
     "text": [
      "1\n",
      "2\n",
      "3\n",
      "4\n",
      "5\n",
      "6\n",
      "7\n",
      "8\n",
      "9\n",
      "10\n",
      "You are not the Rogue\n",
      "Welcome back, Rogue\n"
     ]
    }
   ],
   "source": [
    "i = 1\n",
    "while i <=10:\n",
    "    print(i)\n",
    "    i = i + 1 # this is how we increment the number to count\n",
    "\n",
    "while True:\n",
    "    fixerName = input(\"who are you?\")\n",
    "    if fixerName == \"Rogue\":\n",
    "        print(\"Welcome back, Rogue\")\n",
    "        break\n",
    "    else:\n",
    "        print(\"You are not the Rogue\")"
   ]
  }
 ],
 "metadata": {
  "kernelspec": {
   "display_name": "Python 3",
   "language": "python",
   "name": "python3"
  },
  "language_info": {
   "codemirror_mode": {
    "name": "ipython",
    "version": 3
   },
   "file_extension": ".py",
   "mimetype": "text/x-python",
   "name": "python",
   "nbconvert_exporter": "python",
   "pygments_lexer": "ipython3",
   "version": "3.12.1"
  }
 },
 "nbformat": 4,
 "nbformat_minor": 2
}
